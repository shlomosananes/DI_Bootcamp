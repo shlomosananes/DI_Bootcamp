{
  "nbformat": 4,
  "nbformat_minor": 0,
  "metadata": {
    "colab": {
      "provenance": [],
      "authorship_tag": "ABX9TyMyjxJ65c5PvHc52vADtJo8",
      "include_colab_link": true
    },
    "kernelspec": {
      "name": "python3",
      "display_name": "Python 3"
    },
    "language_info": {
      "name": "python"
    }
  },
  "cells": [
    {
      "cell_type": "markdown",
      "metadata": {
        "id": "view-in-github",
        "colab_type": "text"
      },
      "source": [
        "<a href=\"https://colab.research.google.com/github/shlomosananes/DI_Bootcamp/blob/master/Week04_Day01_Exercise_XP.ipynb\" target=\"_parent\"><img src=\"https://colab.research.google.com/assets/colab-badge.svg\" alt=\"Open In Colab\"/></a>"
      ]
    },
    {
      "cell_type": "markdown",
      "source": [
        "# **Week 04 - Day 01 - Exercise XP**"
      ],
      "metadata": {
        "id": "YGsrcV3_-IwP"
      }
    },
    {
      "cell_type": "markdown",
      "source": [
        "# **Exercise 1: Introduction To Data Analysis (Easy)**\n",
        "\n"
      ],
      "metadata": {
        "id": "VeaR-SAa-SPs"
      }
    },
    {
      "cell_type": "markdown",
      "source": [
        "Aaaaaaaa"
      ],
      "metadata": {
        "id": "D3eBn1vu-bb8"
      }
    },
    {
      "cell_type": "markdown",
      "source": [
        "# **Exercise 2: Dataset Loading And Initial Analysis**\\\n"
      ],
      "metadata": {
        "id": "upxBpt3H-d4e"
      }
    },
    {
      "cell_type": "code",
      "execution_count": null,
      "metadata": {
        "id": "qOnEYmU_MQG_",
        "outputId": "6975a92a-095e-4fb4-fbee-18e857455c83",
        "colab": {
          "base_uri": "https://localhost:8080/"
        }
      },
      "outputs": [
        {
          "output_type": "stream",
          "name": "stdout",
          "text": [
            "Mounted at /content/drive\n"
          ]
        }
      ],
      "source": [
        "from google.colab import drive\n",
        "drive.mount('/content/drive')"
      ]
    },
    {
      "cell_type": "code",
      "source": [
        "from google.colab import files\n",
        "files.upload()"
      ],
      "metadata": {
        "colab": {
          "base_uri": "https://localhost:8080/",
          "height": 90
        },
        "id": "mhMJkO8FEotc",
        "outputId": "eaaa0857-1834-491e-c9f8-913574d8666c"
      },
      "execution_count": null,
      "outputs": [
        {
          "output_type": "display_data",
          "data": {
            "text/plain": [
              "<IPython.core.display.HTML object>"
            ],
            "text/html": [
              "\n",
              "     <input type=\"file\" id=\"files-1efba85d-a574-42ed-9485-f8e58ba4b254\" name=\"files[]\" multiple disabled\n",
              "        style=\"border:none\" />\n",
              "     <output id=\"result-1efba85d-a574-42ed-9485-f8e58ba4b254\">\n",
              "      Upload widget is only available when the cell has been executed in the\n",
              "      current browser session. Please rerun this cell to enable.\n",
              "      </output>\n",
              "      <script>// Copyright 2017 Google LLC\n",
              "//\n",
              "// Licensed under the Apache License, Version 2.0 (the \"License\");\n",
              "// you may not use this file except in compliance with the License.\n",
              "// You may obtain a copy of the License at\n",
              "//\n",
              "//      http://www.apache.org/licenses/LICENSE-2.0\n",
              "//\n",
              "// Unless required by applicable law or agreed to in writing, software\n",
              "// distributed under the License is distributed on an \"AS IS\" BASIS,\n",
              "// WITHOUT WARRANTIES OR CONDITIONS OF ANY KIND, either express or implied.\n",
              "// See the License for the specific language governing permissions and\n",
              "// limitations under the License.\n",
              "\n",
              "/**\n",
              " * @fileoverview Helpers for google.colab Python module.\n",
              " */\n",
              "(function(scope) {\n",
              "function span(text, styleAttributes = {}) {\n",
              "  const element = document.createElement('span');\n",
              "  element.textContent = text;\n",
              "  for (const key of Object.keys(styleAttributes)) {\n",
              "    element.style[key] = styleAttributes[key];\n",
              "  }\n",
              "  return element;\n",
              "}\n",
              "\n",
              "// Max number of bytes which will be uploaded at a time.\n",
              "const MAX_PAYLOAD_SIZE = 100 * 1024;\n",
              "\n",
              "function _uploadFiles(inputId, outputId) {\n",
              "  const steps = uploadFilesStep(inputId, outputId);\n",
              "  const outputElement = document.getElementById(outputId);\n",
              "  // Cache steps on the outputElement to make it available for the next call\n",
              "  // to uploadFilesContinue from Python.\n",
              "  outputElement.steps = steps;\n",
              "\n",
              "  return _uploadFilesContinue(outputId);\n",
              "}\n",
              "\n",
              "// This is roughly an async generator (not supported in the browser yet),\n",
              "// where there are multiple asynchronous steps and the Python side is going\n",
              "// to poll for completion of each step.\n",
              "// This uses a Promise to block the python side on completion of each step,\n",
              "// then passes the result of the previous step as the input to the next step.\n",
              "function _uploadFilesContinue(outputId) {\n",
              "  const outputElement = document.getElementById(outputId);\n",
              "  const steps = outputElement.steps;\n",
              "\n",
              "  const next = steps.next(outputElement.lastPromiseValue);\n",
              "  return Promise.resolve(next.value.promise).then((value) => {\n",
              "    // Cache the last promise value to make it available to the next\n",
              "    // step of the generator.\n",
              "    outputElement.lastPromiseValue = value;\n",
              "    return next.value.response;\n",
              "  });\n",
              "}\n",
              "\n",
              "/**\n",
              " * Generator function which is called between each async step of the upload\n",
              " * process.\n",
              " * @param {string} inputId Element ID of the input file picker element.\n",
              " * @param {string} outputId Element ID of the output display.\n",
              " * @return {!Iterable<!Object>} Iterable of next steps.\n",
              " */\n",
              "function* uploadFilesStep(inputId, outputId) {\n",
              "  const inputElement = document.getElementById(inputId);\n",
              "  inputElement.disabled = false;\n",
              "\n",
              "  const outputElement = document.getElementById(outputId);\n",
              "  outputElement.innerHTML = '';\n",
              "\n",
              "  const pickedPromise = new Promise((resolve) => {\n",
              "    inputElement.addEventListener('change', (e) => {\n",
              "      resolve(e.target.files);\n",
              "    });\n",
              "  });\n",
              "\n",
              "  const cancel = document.createElement('button');\n",
              "  inputElement.parentElement.appendChild(cancel);\n",
              "  cancel.textContent = 'Cancel upload';\n",
              "  const cancelPromise = new Promise((resolve) => {\n",
              "    cancel.onclick = () => {\n",
              "      resolve(null);\n",
              "    };\n",
              "  });\n",
              "\n",
              "  // Wait for the user to pick the files.\n",
              "  const files = yield {\n",
              "    promise: Promise.race([pickedPromise, cancelPromise]),\n",
              "    response: {\n",
              "      action: 'starting',\n",
              "    }\n",
              "  };\n",
              "\n",
              "  cancel.remove();\n",
              "\n",
              "  // Disable the input element since further picks are not allowed.\n",
              "  inputElement.disabled = true;\n",
              "\n",
              "  if (!files) {\n",
              "    return {\n",
              "      response: {\n",
              "        action: 'complete',\n",
              "      }\n",
              "    };\n",
              "  }\n",
              "\n",
              "  for (const file of files) {\n",
              "    const li = document.createElement('li');\n",
              "    li.append(span(file.name, {fontWeight: 'bold'}));\n",
              "    li.append(span(\n",
              "        `(${file.type || 'n/a'}) - ${file.size} bytes, ` +\n",
              "        `last modified: ${\n",
              "            file.lastModifiedDate ? file.lastModifiedDate.toLocaleDateString() :\n",
              "                                    'n/a'} - `));\n",
              "    const percent = span('0% done');\n",
              "    li.appendChild(percent);\n",
              "\n",
              "    outputElement.appendChild(li);\n",
              "\n",
              "    const fileDataPromise = new Promise((resolve) => {\n",
              "      const reader = new FileReader();\n",
              "      reader.onload = (e) => {\n",
              "        resolve(e.target.result);\n",
              "      };\n",
              "      reader.readAsArrayBuffer(file);\n",
              "    });\n",
              "    // Wait for the data to be ready.\n",
              "    let fileData = yield {\n",
              "      promise: fileDataPromise,\n",
              "      response: {\n",
              "        action: 'continue',\n",
              "      }\n",
              "    };\n",
              "\n",
              "    // Use a chunked sending to avoid message size limits. See b/62115660.\n",
              "    let position = 0;\n",
              "    do {\n",
              "      const length = Math.min(fileData.byteLength - position, MAX_PAYLOAD_SIZE);\n",
              "      const chunk = new Uint8Array(fileData, position, length);\n",
              "      position += length;\n",
              "\n",
              "      const base64 = btoa(String.fromCharCode.apply(null, chunk));\n",
              "      yield {\n",
              "        response: {\n",
              "          action: 'append',\n",
              "          file: file.name,\n",
              "          data: base64,\n",
              "        },\n",
              "      };\n",
              "\n",
              "      let percentDone = fileData.byteLength === 0 ?\n",
              "          100 :\n",
              "          Math.round((position / fileData.byteLength) * 100);\n",
              "      percent.textContent = `${percentDone}% done`;\n",
              "\n",
              "    } while (position < fileData.byteLength);\n",
              "  }\n",
              "\n",
              "  // All done.\n",
              "  yield {\n",
              "    response: {\n",
              "      action: 'complete',\n",
              "    }\n",
              "  };\n",
              "}\n",
              "\n",
              "scope.google = scope.google || {};\n",
              "scope.google.colab = scope.google.colab || {};\n",
              "scope.google.colab._files = {\n",
              "  _uploadFiles,\n",
              "  _uploadFilesContinue,\n",
              "};\n",
              "})(self);\n",
              "</script> "
            ]
          },
          "metadata": {}
        },
        {
          "output_type": "stream",
          "name": "stdout",
          "text": [
            "Saving kaggle.json to kaggle.json\n"
          ]
        },
        {
          "output_type": "execute_result",
          "data": {
            "text/plain": [
              "{'kaggle.json': b'{\"username\":\"shlomosananes\",\"key\":\"3935dd9cbbfd470558e707fb46b44e44\"}'}"
            ]
          },
          "metadata": {},
          "execution_count": 2
        }
      ]
    },
    {
      "cell_type": "code",
      "source": [
        "!mkdir -p ~/.kaggle\n",
        "!cp kaggle.json ~/.kaggle/\n",
        "!chmod 600 ~/.kaggle/kaggle.json\n"
      ],
      "metadata": {
        "id": "JECHpFQkFiUb"
      },
      "execution_count": null,
      "outputs": []
    },
    {
      "cell_type": "code",
      "source": [
        "! kaggle datasets download samuelcortinhas/credit-card-approval-clean-data"
      ],
      "metadata": {
        "colab": {
          "base_uri": "https://localhost:8080/"
        },
        "id": "-QhP4wiHFyhM",
        "outputId": "97b8dda3-52b2-454d-8513-7beaf5378952"
      },
      "execution_count": null,
      "outputs": [
        {
          "output_type": "stream",
          "name": "stdout",
          "text": [
            "Downloading credit-card-approval-clean-data.zip to /content\n",
            "\r  0% 0.00/19.0k [00:00<?, ?B/s]\n",
            "\r100% 19.0k/19.0k [00:00<00:00, 33.1MB/s]\n"
          ]
        }
      ]
    },
    {
      "cell_type": "code",
      "source": [
        "! unzip credit-card-approval-clean-data.zip"
      ],
      "metadata": {
        "colab": {
          "base_uri": "https://localhost:8080/"
        },
        "id": "RrGRahZdGBNJ",
        "outputId": "7c79f36d-8bf2-4588-f477-e9241c24ff9d"
      },
      "execution_count": null,
      "outputs": [
        {
          "output_type": "stream",
          "name": "stdout",
          "text": [
            "Archive:  credit-card-approval-clean-data.zip\n",
            "  inflating: clean_dataset.csv       \n",
            "  inflating: crx.csv                 \n"
          ]
        }
      ]
    },
    {
      "cell_type": "code",
      "source": [
        "! kaggle datasets download thedevastator/uncover-global-trends-in-mental-health-disorder\n",
        "! unzip uncover-global-trends-in-mental-health-disorder.zip"
      ],
      "metadata": {
        "colab": {
          "base_uri": "https://localhost:8080/"
        },
        "id": "PMvqGv2IGqoO",
        "outputId": "a68ed758-2e29-4998-84aa-534a7160b682"
      },
      "execution_count": null,
      "outputs": [
        {
          "output_type": "stream",
          "name": "stdout",
          "text": [
            "Downloading uncover-global-trends-in-mental-health-disorder.zip to /content\n",
            "\r  0% 0.00/1.24M [00:00<?, ?B/s]\n",
            "\r100% 1.24M/1.24M [00:00<00:00, 148MB/s]\n",
            "Archive:  uncover-global-trends-in-mental-health-disorder.zip\n",
            "  inflating: Mental health Depression disorder Data.csv  \n"
          ]
        }
      ]
    },
    {
      "cell_type": "code",
      "source": [
        "! kaggle datasets download thedevastator/how-much-sleep-do-americans-really-get\n",
        "! unzip how-much-sleep-do-americans-really-get.zip"
      ],
      "metadata": {
        "colab": {
          "base_uri": "https://localhost:8080/"
        },
        "id": "tm7EsZ1EG5wF",
        "outputId": "ac66b12c-1891-412e-986f-6f11239c11e6"
      },
      "execution_count": null,
      "outputs": [
        {
          "output_type": "stream",
          "name": "stdout",
          "text": [
            "Downloading how-much-sleep-do-americans-really-get.zip to /content\n",
            "\r  0% 0.00/7.62k [00:00<?, ?B/s]\n",
            "\r100% 7.62k/7.62k [00:00<00:00, 13.9MB/s]\n",
            "Archive:  how-much-sleep-do-americans-really-get.zip\n",
            "  inflating: Time Americans Spend Sleeping.csv  \n"
          ]
        }
      ]
    },
    {
      "cell_type": "markdown",
      "source": [
        "**At this point we have the 3 datasets downloaded and available**"
      ],
      "metadata": {
        "id": "ye0UlGxkHGRS"
      }
    },
    {
      "cell_type": "code",
      "source": [
        "import pandas as pd"
      ],
      "metadata": {
        "id": "ufW4hDUBHeed"
      },
      "execution_count": null,
      "outputs": []
    },
    {
      "cell_type": "code",
      "source": [
        "credit_card = pd.read_csv('clean_dataset.csv')"
      ],
      "metadata": {
        "id": "B4cZIqCjHjH3"
      },
      "execution_count": null,
      "outputs": []
    },
    {
      "cell_type": "code",
      "source": [
        "americans_sleep = pd.read_csv('Time Americans Spend Sleeping.csv')"
      ],
      "metadata": {
        "id": "tdmAviS6IRj7"
      },
      "execution_count": null,
      "outputs": []
    },
    {
      "cell_type": "code",
      "source": [
        "mental_disorder = pd.read_csv('Mental health Depression disorder Data.csv')"
      ],
      "metadata": {
        "colab": {
          "base_uri": "https://localhost:8080/"
        },
        "id": "h1DE4S8TIj1h",
        "outputId": "d2f7825a-89a4-42cf-86df-0ac671cf1438"
      },
      "execution_count": null,
      "outputs": [
        {
          "output_type": "stream",
          "name": "stderr",
          "text": [
            "<ipython-input-11-3eda0e64c0fc>:1: DtypeWarning: Columns (5,6) have mixed types. Specify dtype option on import or set low_memory=False.\n",
            "  mental_disorder = pd.read_csv('Mental health Depression disorder Data.csv')\n"
          ]
        }
      ]
    },
    {
      "cell_type": "code",
      "source": [
        "print('Printing data from credit_card dataset')\n",
        "print(credit_card.head())\n",
        "print('\\n Printing data from americans_sleep dataset')\n",
        "print(americans_sleep.head())\n",
        "print('\\n Printing data mental_disorder dataset')\n",
        "print(mental_disorder.head())\n"
      ],
      "metadata": {
        "colab": {
          "base_uri": "https://localhost:8080/"
        },
        "id": "WggunG8iJRjo",
        "outputId": "fefb197b-392f-4a8a-c979-810b8afce205"
      },
      "execution_count": null,
      "outputs": [
        {
          "output_type": "stream",
          "name": "stdout",
          "text": [
            "Printing data from credit_card dataset\n",
            "   Gender    Age   Debt  Married  BankCustomer     Industry Ethnicity  \\\n",
            "0       1  30.83  0.000        1             1  Industrials     White   \n",
            "1       0  58.67  4.460        1             1    Materials     Black   \n",
            "2       0  24.50  0.500        1             1    Materials     Black   \n",
            "3       1  27.83  1.540        1             1  Industrials     White   \n",
            "4       1  20.17  5.625        1             1  Industrials     White   \n",
            "\n",
            "   YearsEmployed  PriorDefault  Employed  CreditScore  DriversLicense  \\\n",
            "0           1.25             1         1            1               0   \n",
            "1           3.04             1         1            6               0   \n",
            "2           1.50             1         0            0               0   \n",
            "3           3.75             1         1            5               1   \n",
            "4           1.71             1         0            0               0   \n",
            "\n",
            "        Citizen  ZipCode  Income  Approved  \n",
            "0       ByBirth      202       0         1  \n",
            "1       ByBirth       43     560         1  \n",
            "2       ByBirth      280     824         1  \n",
            "3       ByBirth      100       3         1  \n",
            "4  ByOtherMeans      120       0         1  \n",
            "\n",
            " Printing data from americans_sleep dataset\n",
            "   index  Year  Period  Avg hrs per day sleeping  Standard Error Type of Days  \\\n",
            "0      0  2003  Annual                      8.57           0.018     All days   \n",
            "1      1  2004  Annual                      8.55           0.026     All days   \n",
            "2      2  2005  Annual                      8.62           0.023     All days   \n",
            "3      3  2006  Annual                      8.63           0.024     All days   \n",
            "4      4  2007  Annual                      8.57           0.024     All days   \n",
            "\n",
            "           Age Group  Activity   Sex  \n",
            "0  15 years and over  Sleeping  Both  \n",
            "1  15 years and over  Sleeping  Both  \n",
            "2  15 years and over  Sleeping  Both  \n",
            "3  15 years and over  Sleeping  Both  \n",
            "4  15 years and over  Sleeping  Both  \n",
            "\n",
            " Printing data mental_disorder dataset\n",
            "   index       Entity Code  Year Schizophrenia (%) Bipolar disorder (%)  \\\n",
            "0      0  Afghanistan  AFG  1990           0.16056             0.697779   \n",
            "1      1  Afghanistan  AFG  1991          0.160312             0.697961   \n",
            "2      2  Afghanistan  AFG  1992          0.160135             0.698107   \n",
            "3      3  Afghanistan  AFG  1993          0.160037             0.698257   \n",
            "4      4  Afghanistan  AFG  1994          0.160022             0.698469   \n",
            "\n",
            "  Eating disorders (%)  Anxiety disorders (%)  Drug use disorders (%)  \\\n",
            "0             0.101855               4.828830                1.677082   \n",
            "1             0.099313               4.829740                1.684746   \n",
            "2             0.096692               4.831108                1.694334   \n",
            "3             0.094336               4.830864                1.705320   \n",
            "4             0.092439               4.829423                1.716069   \n",
            "\n",
            "   Depression (%)  Alcohol use disorders (%)  \n",
            "0        4.071831                   0.672404  \n",
            "1        4.079531                   0.671768  \n",
            "2        4.088358                   0.670644  \n",
            "3        4.096190                   0.669738  \n",
            "4        4.099582                   0.669260  \n"
          ]
        }
      ]
    },
    {
      "cell_type": "markdown",
      "source": [
        "# **Brief dataset description:**\n",
        "\n",
        "Credit Card Approvals (Clean Data):\n",
        "- Dataset provides a variety of PERSONAL data (quantitative and qualitative) and CREDIT data of people.\n",
        "\n",
        "How Much Sleep Do Americans Really Get?\n",
        "- Dataset provides sleeping_hours data per year and age_group (assumption once on the first lines all the records are from the same age_group)\n",
        "\n",
        "\n",
        "Global Trends in Mental Health Disorder\n",
        "- Dataset provides data of several mental health disorder occurence per year and per country."
      ],
      "metadata": {
        "id": "mSp2Q5cuJ2yJ"
      }
    },
    {
      "cell_type": "markdown",
      "source": [
        "# **Exercise 3: Identifying Data Types**\n",
        "\n",
        "\n"
      ],
      "metadata": {
        "id": "RYr4q_r0L_HB"
      }
    },
    {
      "cell_type": "markdown",
      "source": [
        "**Credit Card Approvals (Clean Data) - Columns and Data Types**\n",
        "\n",
        "1.   Gender - Qualitative - Code for category\n",
        "2.   Age - QUANTITATIVE - Numerical data that can be measured/quantified\n",
        "3.   Debt - QUANTITATIVE - Numerical data that can be measured/quantified\n",
        "4.   Married - Qualitative - Code for category\n",
        "5.   BankCustomer - Qualitative - Code for category\n",
        "6.   Industry - Qualitative - Description\n",
        "7.   Ethnicity - Qualitative - Description\n",
        "8.   YearsEmployed - QUANTITATIVE - Numerical data that can be measured/quantified\n",
        "9.   PiorDefault - Qualitative - Code for category\n",
        "10.   Employed - Qualitative - Code for category\n",
        "11.   CreditScore - Qualitative - Code for category\n",
        "12.   DriversLicense - Qualitative - Code for category\n",
        "13.   Citizen - Qualitative - Description\n",
        "14.   Zipcode - Qualitative - Code for category\n",
        "15.   Income - QUANTITATIVE - Numerical data that can be measured/quantified\n",
        "16.   Approved - Qualitative - Code for category"
      ],
      "metadata": {
        "id": "oIJ6PzcWQUlw"
      }
    },
    {
      "cell_type": "markdown",
      "source": [
        "**Global Trends in Mental Health Disorder**\n",
        "\n",
        "1.   Year - Qualitative - Description\n",
        "2.   Period - Qualitative - Description\n",
        "3.   Avg hrs per day sleeping - QUANTITATIVE - Numerical data that can be measured/quantified\n",
        "4.   Standard Error - QUANTITATIVE - Numerical data that can be measured/quantified\n",
        "5.   Type of Days - Qualitative - Description\n",
        "6.   Age Group - Qualitative - Description\n",
        "7.   Activity - Qualitative - Description\n",
        "8.   Sex - Qualitative - Description"
      ],
      "metadata": {
        "id": "s4IWVPZ-RHKw"
      }
    },
    {
      "cell_type": "markdown",
      "source": [
        "**How Much Sleep Do Americans Really Get?**\n",
        "\n",
        "1.   Entity - Qualitative - Code for category\n",
        "2.   Code - Qualitative - Code for category\n",
        "3.   Year - Qualitative - Code for category\n",
        "4.   Schizophrenia (%) - QUANTITATIVE - Numerical data that can be measured/quantified\n",
        "5.   Bipolar disorder (%) - QUANTITATIVE - Numerical data that can be measured/quantified\n",
        "6.   Eating disorders (%) - QUANTITATIVE - Numerical data that can be measured/quantified\n",
        "7.   Anxiety disorders (%) - QUANTITATIVE - Numerical data that can be measured/quantified\n",
        "8.   Drug use disorders (%) - QUANTITATIVE - Numerical data that can be measured/quantified\n",
        "9.   Depression (%) - QUANTITATIVE - Numerical data that can be measured/quantified\n",
        "10.  Alcohol use disorders (%)  - QUANTITATIVE - Numerical data that can be measured/quantified"
      ],
      "metadata": {
        "id": "gw1JrVJ_SGpM"
      }
    },
    {
      "cell_type": "markdown",
      "source": [
        "# **Exercise 4: Exploring Data Types**"
      ],
      "metadata": {
        "id": "v8_yhDvsS3fA"
      }
    },
    {
      "cell_type": "code",
      "source": [
        "! kaggle datasets download arshid/iris-flower-dataset\n",
        "! unzip iris-flower-dataset.zip\n"
      ],
      "metadata": {
        "colab": {
          "base_uri": "https://localhost:8080/"
        },
        "id": "wggGJZEkXdo_",
        "outputId": "d4672b7c-ae49-456a-e200-1e7129f042b9"
      },
      "execution_count": null,
      "outputs": [
        {
          "output_type": "stream",
          "name": "stdout",
          "text": [
            "Downloading iris-flower-dataset.zip to /content\n",
            "\r  0% 0.00/0.99k [00:00<?, ?B/s]\n",
            "\r100% 0.99k/0.99k [00:00<00:00, 1.83MB/s]\n",
            "Archive:  iris-flower-dataset.zip\n",
            "  inflating: IRIS.csv                \n"
          ]
        }
      ]
    },
    {
      "cell_type": "code",
      "source": [
        "iris = pd.read_csv('IRIS.csv')"
      ],
      "metadata": {
        "id": "S32_qk9QXpFJ"
      },
      "execution_count": null,
      "outputs": []
    },
    {
      "cell_type": "code",
      "source": [
        "qualitative_columns = iris.select_dtypes(include=['object']).columns\n",
        "quantitative_columns = iris.select_dtypes(include=['float64', 'int64']).columns\n",
        "print('Qualitative_columns:')\n",
        "print(qualitative_columns)\n",
        "print('Quantitative_columns:')\n",
        "print(quantitative_columns)"
      ],
      "metadata": {
        "colab": {
          "base_uri": "https://localhost:8080/"
        },
        "id": "xZax1JILYYSy",
        "outputId": "f9aaf096-f0cb-4af4-fc80-54e43eb00ae7"
      },
      "execution_count": null,
      "outputs": [
        {
          "output_type": "stream",
          "name": "stdout",
          "text": [
            "Qualitative_columns:\n",
            "Index(['species'], dtype='object')\n",
            "Quantitative_columns:\n",
            "Index(['sepal_length', 'sepal_width', 'petal_length', 'petal_width'], dtype='object')\n"
          ]
        }
      ]
    },
    {
      "cell_type": "code",
      "source": [
        "print(iris.head())"
      ],
      "metadata": {
        "colab": {
          "base_uri": "https://localhost:8080/"
        },
        "id": "8EVd5Ra4Y1Ju",
        "outputId": "b7134eb3-146a-4883-ad75-6d1ff62c1144"
      },
      "execution_count": null,
      "outputs": [
        {
          "output_type": "stream",
          "name": "stdout",
          "text": [
            "   sepal_length  sepal_width  petal_length  petal_width      species\n",
            "0           5.1          3.5           1.4          0.2  Iris-setosa\n",
            "1           4.9          3.0           1.4          0.2  Iris-setosa\n",
            "2           4.7          3.2           1.3          0.2  Iris-setosa\n",
            "3           4.6          3.1           1.5          0.2  Iris-setosa\n",
            "4           5.0          3.6           1.4          0.2  Iris-setosa\n"
          ]
        }
      ]
    },
    {
      "cell_type": "markdown",
      "source": [
        "**Why each column is classified as qualitative or quantitative:**\n",
        "\n",
        "1. sepal_length: quantitative -> attribute that can be measured\n",
        "2. sepal_width: quantitative -> attribute that can be measured\n",
        "3. petal_length: quantitative -> attribute that can be measured\n",
        "4. petal_width: quantitative -> attribute that can be measured\n",
        "5. species: qualitative -> description of the species"
      ],
      "metadata": {
        "id": "B-kBFZO_Y9mQ"
      }
    },
    {
      "cell_type": "markdown",
      "source": [
        "# **Exercise 5: Basic Data Analysis With Google Colab**"
      ],
      "metadata": {
        "id": "qABSL01BZltd"
      }
    },
    {
      "cell_type": "code",
      "source": [
        "iris['sepal_length'].mean()"
      ],
      "metadata": {
        "colab": {
          "base_uri": "https://localhost:8080/"
        },
        "id": "7afuZIAqaltH",
        "outputId": "220447ec-66b7-4a00-f2a5-6af7c7044027"
      },
      "execution_count": null,
      "outputs": [
        {
          "output_type": "execute_result",
          "data": {
            "text/plain": [
              "5.843333333333334"
            ]
          },
          "metadata": {},
          "execution_count": 17
        }
      ]
    },
    {
      "cell_type": "code",
      "source": [
        "iris['sepal_length'].median()"
      ],
      "metadata": {
        "colab": {
          "base_uri": "https://localhost:8080/"
        },
        "id": "vaDGWqHbbc1L",
        "outputId": "4800ab14-c9f8-432d-b83c-d2d6cef93b00"
      },
      "execution_count": null,
      "outputs": [
        {
          "output_type": "execute_result",
          "data": {
            "text/plain": [
              "5.8"
            ]
          },
          "metadata": {},
          "execution_count": 18
        }
      ]
    },
    {
      "cell_type": "code",
      "source": [
        "iris['sepal_length'].mode()"
      ],
      "metadata": {
        "colab": {
          "base_uri": "https://localhost:8080/"
        },
        "id": "XiO9BB8Lbfqi",
        "outputId": "7341a6f4-d711-41cc-f3ab-71b56fb7ae8a"
      },
      "execution_count": null,
      "outputs": [
        {
          "output_type": "execute_result",
          "data": {
            "text/plain": [
              "0    5.0\n",
              "Name: sepal_length, dtype: float64"
            ]
          },
          "metadata": {},
          "execution_count": 19
        }
      ]
    },
    {
      "cell_type": "code",
      "source": [
        "import matplotlib.pyplot as plt\n",
        "plt.plot(iris['species'], iris['sepal_length'])\n",
        "plt.show()"
      ],
      "metadata": {
        "colab": {
          "base_uri": "https://localhost:8080/",
          "height": 430
        },
        "id": "sqRKO0f8dNif",
        "outputId": "68e83717-ef69-4078-8a28-20c61bd5ff74"
      },
      "execution_count": null,
      "outputs": [
        {
          "output_type": "display_data",
          "data": {
            "text/plain": [
              "<Figure size 640x480 with 1 Axes>"
            ],
            "image/png": "[encoded data removed]"
          },
          "metadata": {}
        }
      ]
    },
    {
      "cell_type": "markdown",
      "source": [
        "1. sepal_length mean = 5.843333333333334\n",
        "2. sepal_length median = 5.8\n",
        "3. sepal_length mode = 5.0\n",
        "\n",
        "From the plot, we can infeer the sepal_length is greater for the species Iris-virginica, followed by Iris-versicolor and finally the smallest one is found on the species Iris-setosa."
      ],
      "metadata": {
        "id": "pZt-_sGzdtqD"
      }
    },
    {
      "cell_type": "markdown",
      "source": [
        "# **Exercise 6: Basic Observation Skills In Data Analysis**"
      ],
      "metadata": {
        "id": "3xt7EYoseXEm"
      }
    },
    {
      "cell_type": "code",
      "source": [
        "americans_sleep.head()"
      ],
      "metadata": {
        "colab": {
          "base_uri": "https://localhost:8080/",
          "height": 206
        },
        "id": "b9ahWPL178rP",
        "outputId": "b2a93d98-37a5-4c67-f241-1a93f96d8927"
      },
      "execution_count": null,
      "outputs": [
        {
          "output_type": "execute_result",
          "data": {
            "text/plain": [
              "   index  Year  Period  Avg hrs per day sleeping  Standard Error Type of Days  \\\n",
              "0      0  2003  Annual                      8.57           0.018     All days   \n",
              "1      1  2004  Annual                      8.55           0.026     All days   \n",
              "2      2  2005  Annual                      8.62           0.023     All days   \n",
              "3      3  2006  Annual                      8.63           0.024     All days   \n",
              "4      4  2007  Annual                      8.57           0.024     All days   \n",
              "\n",
              "           Age Group  Activity   Sex  \n",
              "0  15 years and over  Sleeping  Both  \n",
              "1  15 years and over  Sleeping  Both  \n",
              "2  15 years and over  Sleeping  Both  \n",
              "3  15 years and over  Sleeping  Both  \n",
              "4  15 years and over  Sleeping  Both  "
            ],
            "text/html": [
              "\n",
              "  <div id=\"df-1c8f7fd5-4afd-487c-9641-e95dea260160\" class=\"colab-df-container\">\n",
              "    <div>\n",
              "<style scoped>\n",
              "    .dataframe tbody tr th:only-of-type {\n",
              "        vertical-align: middle;\n",
              "    }\n",
              "\n",
              "    .dataframe tbody tr th {\n",
              "        vertical-align: top;\n",
              "    }\n",
              "\n",
              "    .dataframe thead th {\n",
              "        text-align: right;\n",
              "    }\n",
              "</style>\n",
              "<table border=\"1\" class=\"dataframe\">\n",
              "  <thead>\n",
              "    <tr style=\"text-align: right;\">\n",
              "      <th></th>\n",
              "      <th>index</th>\n",
              "      <th>Year</th>\n",
              "      <th>Period</th>\n",
              "      <th>Avg hrs per day sleeping</th>\n",
              "      <th>Standard Error</th>\n",
              "      <th>Type of Days</th>\n",
              "      <th>Age Group</th>\n",
              "      <th>Activity</th>\n",
              "      <th>Sex</th>\n",
              "    </tr>\n",
              "  </thead>\n",
              "  <tbody>\n",
              "    <tr>\n",
              "      <th>0</th>\n",
              "      <td>0</td>\n",
              "      <td>2003</td>\n",
              "      <td>Annual</td>\n",
              "      <td>8.57</td>\n",
              "      <td>0.018</td>\n",
              "      <td>All days</td>\n",
              "      <td>15 years and over</td>\n",
              "      <td>Sleeping</td>\n",
              "      <td>Both</td>\n",
              "    </tr>\n",
              "    <tr>\n",
              "      <th>1</th>\n",
              "      <td>1</td>\n",
              "      <td>2004</td>\n",
              "      <td>Annual</td>\n",
              "      <td>8.55</td>\n",
              "      <td>0.026</td>\n",
              "      <td>All days</td>\n",
              "      <td>15 years and over</td>\n",
              "      <td>Sleeping</td>\n",
              "      <td>Both</td>\n",
              "    </tr>\n",
              "    <tr>\n",
              "      <th>2</th>\n",
              "      <td>2</td>\n",
              "      <td>2005</td>\n",
              "      <td>Annual</td>\n",
              "      <td>8.62</td>\n",
              "      <td>0.023</td>\n",
              "      <td>All days</td>\n",
              "      <td>15 years and over</td>\n",
              "      <td>Sleeping</td>\n",
              "      <td>Both</td>\n",
              "    </tr>\n",
              "    <tr>\n",
              "      <th>3</th>\n",
              "      <td>3</td>\n",
              "      <td>2006</td>\n",
              "      <td>Annual</td>\n",
              "      <td>8.63</td>\n",
              "      <td>0.024</td>\n",
              "      <td>All days</td>\n",
              "      <td>15 years and over</td>\n",
              "      <td>Sleeping</td>\n",
              "      <td>Both</td>\n",
              "    </tr>\n",
              "    <tr>\n",
              "      <th>4</th>\n",
              "      <td>4</td>\n",
              "      <td>2007</td>\n",
              "      <td>Annual</td>\n",
              "      <td>8.57</td>\n",
              "      <td>0.024</td>\n",
              "      <td>All days</td>\n",
              "      <td>15 years and over</td>\n",
              "      <td>Sleeping</td>\n",
              "      <td>Both</td>\n",
              "    </tr>\n",
              "  </tbody>\n",
              "</table>\n",
              "</div>\n",
              "    <div class=\"colab-df-buttons\">\n",
              "\n",
              "  <div class=\"colab-df-container\">\n",
              "    <button class=\"colab-df-convert\" onclick=\"convertToInteractive('df-1c8f7fd5-4afd-487c-9641-e95dea260160')\"\n",
              "            title=\"Convert this dataframe to an interactive table.\"\n",
              "            style=\"display:none;\">\n",
              "\n",
              "  <svg xmlns=\"http://www.w3.org/2000/svg\" height=\"24px\" viewBox=\"0 -960 960 960\">\n",
              "    <path d=\"M120-120v-720h720v720H120Zm60-500h600v-160H180v160Zm220 220h160v-160H400v160Zm0 220h160v-160H400v160ZM180-400h160v-160H180v160Zm440 0h160v-160H620v160ZM180-180h160v-160H180v160Zm440 0h160v-160H620v160Z\"/>\n",
              "  </svg>\n",
              "    </button>\n",
              "\n",
              "  <style>\n",
              "    .colab-df-container {\n",
              "      display:flex;\n",
              "      gap: 12px;\n",
              "    }\n",
              "\n",
              "    .colab-df-convert {\n",
              "      background-color: #E8F0FE;\n",
              "      border: none;\n",
              "      border-radius: 50%;\n",
              "      cursor: pointer;\n",
              "      display: none;\n",
              "      fill: #1967D2;\n",
              "      height: 32px;\n",
              "      padding: 0 0 0 0;\n",
              "      width: 32px;\n",
              "    }\n",
              "\n",
              "    .colab-df-convert:hover {\n",
              "      background-color: #E2EBFA;\n",
              "      box-shadow: 0px 1px 2px rgba(60, 64, 67, 0.3), 0px 1px 3px 1px rgba(60, 64, 67, 0.15);\n",
              "      fill: #174EA6;\n",
              "    }\n",
              "\n",
              "    .colab-df-buttons div {\n",
              "      margin-bottom: 4px;\n",
              "    }\n",
              "\n",
              "    [theme=dark] .colab-df-convert {\n",
              "      background-color: #3B4455;\n",
              "      fill: #D2E3FC;\n",
              "    }\n",
              "\n",
              "    [theme=dark] .colab-df-convert:hover {\n",
              "      background-color: #434B5C;\n",
              "      box-shadow: 0px 1px 3px 1px rgba(0, 0, 0, 0.15);\n",
              "      filter: drop-shadow(0px 1px 2px rgba(0, 0, 0, 0.3));\n",
              "      fill: #FFFFFF;\n",
              "    }\n",
              "  </style>\n",
              "\n",
              "    <script>\n",
              "      const buttonEl =\n",
              "        document.querySelector('#df-1c8f7fd5-4afd-487c-9641-e95dea260160 button.colab-df-convert');\n",
              "      buttonEl.style.display =\n",
              "        google.colab.kernel.accessAllowed ? 'block' : 'none';\n",
              "\n",
              "      async function convertToInteractive(key) {\n",
              "        const element = document.querySelector('#df-1c8f7fd5-4afd-487c-9641-e95dea260160');\n",
              "        const dataTable =\n",
              "          await google.colab.kernel.invokeFunction('convertToInteractive',\n",
              "                                                    [key], {});\n",
              "        if (!dataTable) return;\n",
              "\n",
              "        const docLinkHtml = 'Like what you see? Visit the ' +\n",
              "          '<a target=\"_blank\" href=https://colab.research.google.com/notebooks/data_table.ipynb>data table notebook</a>'\n",
              "          + ' to learn more about interactive tables.';\n",
              "        element.innerHTML = '';\n",
              "        dataTable['output_type'] = 'display_data';\n",
              "        await google.colab.output.renderOutput(dataTable, element);\n",
              "        const docLink = document.createElement('div');\n",
              "        docLink.innerHTML = docLinkHtml;\n",
              "        element.appendChild(docLink);\n",
              "      }\n",
              "    </script>\n",
              "  </div>\n",
              "\n",
              "\n",
              "<div id=\"df-7a0e0181-29b8-4ae9-82f7-6e75bac6080a\">\n",
              "  <button class=\"colab-df-quickchart\" onclick=\"quickchart('df-7a0e0181-29b8-4ae9-82f7-6e75bac6080a')\"\n",
              "            title=\"Suggest charts\"\n",
              "            style=\"display:none;\">\n",
              "\n",
              "<svg xmlns=\"http://www.w3.org/2000/svg\" height=\"24px\"viewBox=\"0 0 24 24\"\n",
              "     width=\"24px\">\n",
              "    <g>\n",
              "        <path d=\"M19 3H5c-1.1 0-2 .9-2 2v14c0 1.1.9 2 2 2h14c1.1 0 2-.9 2-2V5c0-1.1-.9-2-2-2zM9 17H7v-7h2v7zm4 0h-2V7h2v10zm4 0h-2v-4h2v4z\"/>\n",
              "    </g>\n",
              "</svg>\n",
              "  </button>\n",
              "\n",
              "<style>\n",
              "  .colab-df-quickchart {\n",
              "      --bg-color: #E8F0FE;\n",
              "      --fill-color: #1967D2;\n",
              "      --hover-bg-color: #E2EBFA;\n",
              "      --hover-fill-color: #174EA6;\n",
              "      --disabled-fill-color: #AAA;\n",
              "      --disabled-bg-color: #DDD;\n",
              "  }\n",
              "\n",
              "  [theme=dark] .colab-df-quickchart {\n",
              "      --bg-color: #3B4455;\n",
              "      --fill-color: #D2E3FC;\n",
              "      --hover-bg-color: #434B5C;\n",
              "      --hover-fill-color: #FFFFFF;\n",
              "      --disabled-bg-color: #3B4455;\n",
              "      --disabled-fill-color: #666;\n",
              "  }\n",
              "\n",
              "  .colab-df-quickchart {\n",
              "    background-color: var(--bg-color);\n",
              "    border: none;\n",
              "    border-radius: 50%;\n",
              "    cursor: pointer;\n",
              "    display: none;\n",
              "    fill: var(--fill-color);\n",
              "    height: 32px;\n",
              "    padding: 0;\n",
              "    width: 32px;\n",
              "  }\n",
              "\n",
              "  .colab-df-quickchart:hover {\n",
              "    background-color: var(--hover-bg-color);\n",
              "    box-shadow: 0 1px 2px rgba(60, 64, 67, 0.3), 0 1px 3px 1px rgba(60, 64, 67, 0.15);\n",
              "    fill: var(--button-hover-fill-color);\n",
              "  }\n",
              "\n",
              "  .colab-df-quickchart-complete:disabled,\n",
              "  .colab-df-quickchart-complete:disabled:hover {\n",
              "    background-color: var(--disabled-bg-color);\n",
              "    fill: var(--disabled-fill-color);\n",
              "    box-shadow: none;\n",
              "  }\n",
              "\n",
              "  .colab-df-spinner {\n",
              "    border: 2px solid var(--fill-color);\n",
              "    border-color: transparent;\n",
              "    border-bottom-color: var(--fill-color);\n",
              "    animation:\n",
              "      spin 1s steps(1) infinite;\n",
              "  }\n",
              "\n",
              "  @keyframes spin {\n",
              "    0% {\n",
              "      border-color: transparent;\n",
              "      border-bottom-color: var(--fill-color);\n",
              "      border-left-color: var(--fill-color);\n",
              "    }\n",
              "    20% {\n",
              "      border-color: transparent;\n",
              "      border-left-color: var(--fill-color);\n",
              "      border-top-color: var(--fill-color);\n",
              "    }\n",
              "    30% {\n",
              "      border-color: transparent;\n",
              "      border-left-color: var(--fill-color);\n",
              "      border-top-color: var(--fill-color);\n",
              "      border-right-color: var(--fill-color);\n",
              "    }\n",
              "    40% {\n",
              "      border-color: transparent;\n",
              "      border-right-color: var(--fill-color);\n",
              "      border-top-color: var(--fill-color);\n",
              "    }\n",
              "    60% {\n",
              "      border-color: transparent;\n",
              "      border-right-color: var(--fill-color);\n",
              "    }\n",
              "    80% {\n",
              "      border-color: transparent;\n",
              "      border-right-color: var(--fill-color);\n",
              "      border-bottom-color: var(--fill-color);\n",
              "    }\n",
              "    90% {\n",
              "      border-color: transparent;\n",
              "      border-bottom-color: var(--fill-color);\n",
              "    }\n",
              "  }\n",
              "</style>\n",
              "\n",
              "  <script>\n",
              "    async function quickchart(key) {\n",
              "      const quickchartButtonEl =\n",
              "        document.querySelector('#' + key + ' button');\n",
              "      quickchartButtonEl.disabled = true;  // To prevent multiple clicks.\n",
              "      quickchartButtonEl.classList.add('colab-df-spinner');\n",
              "      try {\n",
              "        const charts = await google.colab.kernel.invokeFunction(\n",
              "            'suggestCharts', [key], {});\n",
              "      } catch (error) {\n",
              "        console.error('Error during call to suggestCharts:', error);\n",
              "      }\n",
              "      quickchartButtonEl.classList.remove('colab-df-spinner');\n",
              "      quickchartButtonEl.classList.add('colab-df-quickchart-complete');\n",
              "    }\n",
              "    (() => {\n",
              "      let quickchartButtonEl =\n",
              "        document.querySelector('#df-7a0e0181-29b8-4ae9-82f7-6e75bac6080a button');\n",
              "      quickchartButtonEl.style.display =\n",
              "        google.colab.kernel.accessAllowed ? 'block' : 'none';\n",
              "    })();\n",
              "  </script>\n",
              "</div>\n",
              "\n",
              "    </div>\n",
              "  </div>\n"
            ],
            "application/vnd.google.colaboratory.intrinsic+json": {
              "type": "dataframe",
              "variable_name": "americans_sleep",
              "summary": "{\n  \"name\": \"americans_sleep\",\n  \"rows\": 945,\n  \"fields\": [\n    {\n      \"column\": \"index\",\n      \"properties\": {\n        \"dtype\": \"number\",\n        \"std\": 272,\n        \"min\": 0,\n        \"max\": 944,\n        \"num_unique_values\": 945,\n        \"samples\": [\n          848,\n          333,\n          280\n        ],\n        \"semantic_type\": \"\",\n        \"description\": \"\"\n      }\n    },\n    {\n      \"column\": \"Year\",\n      \"properties\": {\n        \"dtype\": \"number\",\n        \"std\": 4,\n        \"min\": 2003,\n        \"max\": 2017,\n        \"num_unique_values\": 15,\n        \"samples\": [\n          2012,\n          2014,\n          2003\n        ],\n        \"semantic_type\": \"\",\n        \"description\": \"\"\n      }\n    },\n    {\n      \"column\": \"Period\",\n      \"properties\": {\n        \"dtype\": \"category\",\n        \"num_unique_values\": 1,\n        \"samples\": [\n          \"Annual\"\n        ],\n        \"semantic_type\": \"\",\n        \"description\": \"\"\n      }\n    },\n    {\n      \"column\": \"Avg hrs per day sleeping\",\n      \"properties\": {\n        \"dtype\": \"number\",\n        \"std\": 0.545001291074517,\n        \"min\": 7.72,\n        \"max\": 10.65,\n        \"num_unique_values\": 221,\n        \"samples\": [\n          9.06\n        ],\n        \"semantic_type\": \"\",\n        \"description\": \"\"\n      }\n    },\n    {\n      \"column\": \"Standard Error\",\n      \"properties\": {\n        \"dtype\": \"number\",\n        \"std\": 0.034631447984306576,\n        \"min\": 0.018,\n        \"max\": 0.228,\n        \"num_unique_values\": 158,\n        \"samples\": [\n          0.138\n        ],\n        \"semantic_type\": \"\",\n        \"description\": \"\"\n      }\n    },\n    {\n      \"column\": \"Type of Days\",\n      \"properties\": {\n        \"dtype\": \"category\",\n        \"num_unique_values\": 3,\n        \"samples\": [\n          \"All days\"\n        ],\n        \"semantic_type\": \"\",\n        \"description\": \"\"\n      }\n    },\n    {\n      \"column\": \"Age Group\",\n      \"properties\": {\n        \"dtype\": \"category\",\n        \"num_unique_values\": 7,\n        \"samples\": [\n          \"15 years and over\"\n        ],\n        \"semantic_type\": \"\",\n        \"description\": \"\"\n      }\n    },\n    {\n      \"column\": \"Activity\",\n      \"properties\": {\n        \"dtype\": \"category\",\n        \"num_unique_values\": 1,\n        \"samples\": [\n          \"Sleeping\"\n        ],\n        \"semantic_type\": \"\",\n        \"description\": \"\"\n      }\n    },\n    {\n      \"column\": \"Sex\",\n      \"properties\": {\n        \"dtype\": \"category\",\n        \"num_unique_values\": 3,\n        \"samples\": [\n          \"Both\"\n        ],\n        \"semantic_type\": \"\",\n        \"description\": \"\"\n      }\n    }\n  ]\n}"
            }
          },
          "metadata": {},
          "execution_count": 22
        }
      ]
    },
    {
      "cell_type": "markdown",
      "source": [
        "\n",
        "1. The pair 'Age Group' and 'Avg hrs per day sleeping' would provide a good group comparison to check if there are significant difference according to the age.\n",
        "2. Likewise, the pair 'Age Group' and \"Standard Error' would show if one group is more heterogeneus than another.\n",
        "3. Finally, the pair 'Year' and 'Avg hrs per day sleeping' would show if there sleeping habbit is being change over the years."
      ],
      "metadata": {
        "id": "Lk8elHGz8XrN"
      }
    }
  ]
}
